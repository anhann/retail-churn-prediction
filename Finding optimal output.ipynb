{
 "cells": [
  {
   "cell_type": "code",
   "execution_count": 42,
   "id": "2caabd5a",
   "metadata": {},
   "outputs": [],
   "source": [
    "import psycopg2\n",
    "import numpy as np\n",
    "import pandas as pd\n",
    "import tslearn as tl\n",
    "from getpass import getpass"
   ]
  },
  {
   "cell_type": "code",
   "execution_count": 43,
   "id": "b4034373",
   "metadata": {},
   "outputs": [
    {
     "name": "stdout",
     "output_type": "stream",
     "text": [
      "Enter the database password for lixan23: ········\n"
     ]
    }
   ],
   "source": [
    "################################\n",
    "#### CHANGE TO YOUR DETAILS ####\n",
    "user = 'lixan23'\n",
    "db_ip = '10.158.72.112'\n",
    "################################\n",
    "pw = getpass('Enter the database password for {}: '.format(user))"
   ]
  },
  {
   "cell_type": "markdown",
   "id": "260cb13d",
   "metadata": {},
   "source": [
    "## Finding optimal decrease rate in visit"
   ]
  },
  {
   "cell_type": "code",
   "execution_count": 66,
   "id": "1081fdec",
   "metadata": {},
   "outputs": [],
   "source": [
    "# get data function\n",
    "def get_dataset( reference_day, tumbling_window_size = 38, output_window_size = 38 ):\n",
    "    with psycopg2.connect(\"host='{}' dbname='nlab' user='{}' password='{}'\".format(db_ip, user, pw)) as conn:\n",
    "      sql = \"\"\"\n",
    "      WITH \n",
    "      tumbling AS(\n",
    "      SELECT customer_id,\n",
    "             %(ref_date)s::date AS ref_day,\n",
    "             COUNT (DISTINCT CASE WHEN purchased_at > %(ref_date)s::DATE AND purchased_at <= %(ref_date)s::DATE + %(ows)s THEN purchased_at::DATE ELSE null END) as output_feature,\n",
    "             SUM(CASE WHEN purchased_at > %(ref_date)s::DATE -%(ws)s AND purchased_at <= %(ref_date)s::DATE THEN value ELSE 0 END) as sale_f1,\n",
    "             SUM(CASE WHEN purchased_at > %(ref_date)s::DATE -%(ws)s*2 AND purchased_at <= %(ref_date)s::DATE-%(ws)s THEN value ELSE 0 END ) as sale_f2,\n",
    "             SUM(CASE WHEN purchased_at > %(ref_date)s::DATE -%(ws)s*3 AND purchased_at <= %(ref_date)s::DATE-%(ws)s*2 THEN value ELSE 0 END ) as sale_f3,\n",
    "             SUM(CASE WHEN purchased_at > %(ref_date)s::DATE -%(ws)s*4 AND purchased_at <= %(ref_date)s::DATE-%(ws)s*3 THEN value ELSE 0 END ) as sale_f4,\n",
    "             SUM(CASE WHEN purchased_at > %(ref_date)s::DATE -%(ws)s*5 AND purchased_at <= %(ref_date)s::DATE-%(ws)s*4 THEN value ELSE 0 END ) as sale_f5,\n",
    "             COUNT (DISTINCT CASE WHEN purchased_at > %(ref_date)s::DATE -%(ws)s AND purchased_at <= %(ref_date)s::DATE THEN purchased_at::DATE ELSE null END ) as visit_f1,\n",
    "             COUNT (DISTINCT CASE WHEN purchased_at > %(ref_date)s::DATE -%(ws)s*2 AND purchased_at <= %(ref_date)s::DATE-%(ws)s THEN purchased_at::DATE ELSE null END ) as visit_f2,\n",
    "             COUNT (DISTINCT CASE WHEN purchased_at > %(ref_date)s::DATE -%(ws)s*3 AND purchased_at <= %(ref_date)s::DATE-%(ws)s*2 THEN purchased_at::DATE ELSE null END ) as visit_f3,\n",
    "             COUNT (DISTINCT CASE WHEN purchased_at > %(ref_date)s::DATE -%(ws)s*4 AND purchased_at <= %(ref_date)s::DATE-%(ws)s*3 THEN purchased_at::DATE ELSE null END ) as visit_f4,\n",
    "             COUNT (DISTINCT CASE WHEN purchased_at > %(ref_date)s::DATE -%(ws)s*5 AND purchased_at <= %(ref_date)s::DATE-%(ws)s*4 THEN purchased_at::DATE ELSE null END ) as visit_f5\n",
    "     FROM ml2.receipts_clean\n",
    "     JOIN ml2.receipt_lines_clean\n",
    "     USING (receipt_id)\n",
    "     GROUP BY customer_id),\n",
    "     \n",
    "     rfm AS (\n",
    "     SELECT customer_id,\n",
    "             SUM(value) as total_spend,\n",
    "             COUNT (DISTINCT purchased_at::DATE) as active_day,\n",
    "             SUM(value)/COUNT (DISTINCT purchased_at) as basket_value,\n",
    "             SUM (value)/ SUM (qty) as unit_cost,\n",
    "             COUNT (DISTINCT product_code) as num_pro,\n",
    "             COUNT(DISTINCT purchased_at::DATE)/((EXTRACT(day from (MAX(purchased_at)-MIN(purchased_at)))/%(ws)s)::INT+1) AS average_visit,\n",
    "             SUM (value)/((EXTRACT(day from (MAX(purchased_at)-MIN(purchased_at)))/%(ws)s)::INT+1) AS average_spend\n",
    "     FROM ml2.receipts_clean\n",
    "     JOIN ml2.receipt_lines_clean\n",
    "     USING (receipt_id)\n",
    "     --below condition to make sure we do not include future data--\n",
    "     WHERE purchased_at<=%(ref_date)s::date\n",
    "     --and only consider the nearest 5 period--\n",
    "     AND purchased_at>%(ref_date)s::DATE -%(ws)s*5\n",
    "     GROUP BY customer_id\n",
    "     --exclude people who not purchase in last period (strict churn)--\n",
    "     HAVING MAX(purchased_at)>%(ref_date)s::DATE-%(ws)s),\n",
    "             \n",
    "     store AS (\n",
    "     SELECT customer_id, store_code \n",
    "            FROM (SELECT customer_id, store_code, COUNT(*) AS ct\n",
    "                    FROM ml2.receipts_clean\n",
    "                    GROUP BY 1,2)x\n",
    "            GROUP BY 1,2,ct\n",
    "            HAVING ct=MAX(ct))\n",
    "    \n",
    "    SELECT * FROM tumbling JOIN store USING (customer_id) JOIN rfm USING (customer_id)\n",
    "    \n",
    "      \"\"\"\n",
    "\n",
    "      df = pd.read_sql(sql, conn, params = {'ref_date':reference_day, 'ws':tumbling_window_size, 'ows':output_window_size})\n",
    "\n",
    "      return df.drop(columns = ['ref_day','output_feature','customer_id'], inplace = False), df.output_feature"
   ]
  },
  {
   "cell_type": "code",
   "execution_count": 67,
   "id": "feda0e3a",
   "metadata": {},
   "outputs": [],
   "source": [
    "# create ouput processing function with \n",
    "# make a deep copy version of y with each change in decrease level\n",
    "from copy import deepcopy\n",
    "def data_process (X,y,k):\n",
    "    y_new=deepcopy(y)\n",
    "    for i in range(len(y_new)):\n",
    "        # X.iloc[i,-2]: data in column 'average_visit'\n",
    "        if y_new[i]<=X.iloc[i,-2]*k:\n",
    "            y_new[i]=1\n",
    "        else:\n",
    "            y_new[i]=0\n",
    "    return X, y_new"
   ]
  },
  {
   "cell_type": "code",
   "execution_count": 68,
   "id": "dfe23483",
   "metadata": {},
   "outputs": [],
   "source": [
    "# calculating churn rate & model performance with each change in decrease level\n",
    "# using 5 folds of temporal hold outs\n",
    "# storing churn rate in curve, AUC in acc\n",
    "from sklearn.ensemble import RandomForestClassifier\n",
    "from sklearn.metrics import roc_auc_score\n",
    "rf=RandomForestClassifier(random_state=42, min_samples_leaf=30)\n",
    "import datetime  \n",
    "from datetime import timedelta\n",
    "ref_date= datetime.date(2020,10,17)\n",
    "index=[i/100 for i in range(0,100)]\n",
    "fold=5\n",
    "acc={}\n",
    "curve={}\n",
    "for k in range(fold):\n",
    "    ref_test=str(ref_date-timedelta(days=38*k))\n",
    "    ref_train=str(ref_date-timedelta(days=38*(k+1)))\n",
    "    X_test, y_test=get_dataset(ref_test)\n",
    "    X_train, y_train=get_dataset(ref_train)\n",
    "    acc[k]=[]\n",
    "    curve[k]=[]\n",
    "    for j in index:\n",
    "        X_test_new,y_test_new=data_process (X_test,y_test,j)\n",
    "        X_test_min=X_test_new\n",
    "        X_train_new, y_train_new=data_process (X_train,y_train,j)\n",
    "        curve[k].append(len(y_test_new[y_test_new==1])/len(y_test_new))\n",
    "        rf.fit(X_train_new,y_train_new)\n",
    "        y_pred=rf.predict_proba(X_test_new)[:,1]\n",
    "        acc[k].append(roc_auc_score(y_test_new,y_pred))"
   ]
  },
  {
   "cell_type": "code",
   "execution_count": 69,
   "id": "90f9ab81",
   "metadata": {},
   "outputs": [
    {
     "data": {
      "text/plain": [
       "[<matplotlib.lines.Line2D at 0x7ff2e82e5990>]"
      ]
     },
     "execution_count": 69,
     "metadata": {},
     "output_type": "execute_result"
    },
    {
     "data": {
      "image/png": "[encoded data removed]",
      "text/plain": [
       "<Figure size 432x288 with 1 Axes>"
      ]
     },
     "metadata": {
      "needs_background": "light"
     },
     "output_type": "display_data"
    }
   ],
   "source": [
    "# plotting the results\n",
    "import matplotlib.pyplot as plt\n",
    "plt.plot(index, curve[0], 'r-')\n",
    "plt.plot(index, curve[1], 'g-')\n",
    "plt.plot(index, curve[2], 'b')\n",
    "plt.plot(index, curve[3], 'c-')\n",
    "plt.plot(index, curve[4], 'm-')\n",
    "plt.plot(index, acc[0], 'r:')\n",
    "plt.plot(index, acc[1], 'g:')\n",
    "plt.plot(index, acc[2], 'b:')\n",
    "plt.plot(index, acc[3], 'c:')\n",
    "plt.plot(index, acc[4], 'm:')"
   ]
  },
  {
   "cell_type": "code",
   "execution_count": 70,
   "id": "95d559bf",
   "metadata": {},
   "outputs": [
    {
     "data": {
      "text/plain": [
       "0.418446506552072"
      ]
     },
     "execution_count": 70,
     "metadata": {},
     "output_type": "execute_result"
    }
   ],
   "source": [
    "#average churn rate at 0.49 threshold\n",
    "(curve[0][49] + curve[1][49] + curve[2][49] + curve[3][49] + curve[4][49])/5"
   ]
  },
  {
   "cell_type": "code",
   "execution_count": 71,
   "id": "4f798a3c",
   "metadata": {},
   "outputs": [
    {
     "data": {
      "text/plain": [
       "0.387145263962306"
      ]
     },
     "execution_count": 71,
     "metadata": {},
     "output_type": "execute_result"
    }
   ],
   "source": [
    "#average churn rate at 0 threshold - meaning using global churn definition\n",
    "(curve[0][0] + curve[1][0] + curve[2][0] + curve[3][0] + curve[4][0])/5"
   ]
  },
  {
   "cell_type": "code",
   "execution_count": 72,
   "id": "123dae2e",
   "metadata": {},
   "outputs": [
    {
     "data": {
      "text/plain": [
       "0.8218751361028025"
      ]
     },
     "execution_count": 72,
     "metadata": {},
     "output_type": "execute_result"
    }
   ],
   "source": [
    "#average AUC at 0.49 threshold\n",
    "(acc[0][49] + acc[1][49] + acc[2][49] + acc[3][49] + acc[4][49])/5"
   ]
  },
  {
   "cell_type": "markdown",
   "id": "0925e31d",
   "metadata": {},
   "source": [
    "## Finding optimal decrease rate in sales"
   ]
  },
  {
   "cell_type": "code",
   "execution_count": 73,
   "id": "1c2f5659",
   "metadata": {},
   "outputs": [],
   "source": [
    "# revise get data function - decode sale by dividing to 7.235 (Q1 of average spending)\n",
    "def get_dataset( reference_day, tumbling_window_size = 38, output_window_size = 38 ):\n",
    "    with psycopg2.connect(\"host='{}' dbname='nlab' user='{}' password='{}'\".format(db_ip, user, pw)) as conn:\n",
    "      sql = \"\"\"\n",
    "      WITH \n",
    "      tumbling AS(\n",
    "      SELECT customer_id,\n",
    "             %(ref_date)s::date AS ref_day,\n",
    "             COUNT (DISTINCT CASE WHEN purchased_at > %(ref_date)s::DATE AND purchased_at <= %(ref_date)s::DATE + %(ows)s THEN purchased_at::DATE ELSE null END) as output_feature,\n",
    "             (SUM(CASE WHEN purchased_at > %(ref_date)s::DATE -%(ws)s AND purchased_at <= %(ref_date)s::DATE THEN value ELSE 0 END)/7.245)::INT as sale_f1,\n",
    "             (SUM(CASE WHEN purchased_at > %(ref_date)s::DATE -%(ws)s*2 AND purchased_at <= %(ref_date)s::DATE-%(ws)s THEN value ELSE 0 END)/7.245)::INT as sale_f2,\n",
    "             (SUM(CASE WHEN purchased_at > %(ref_date)s::DATE -%(ws)s*3 AND purchased_at <= %(ref_date)s::DATE-%(ws)s*2 THEN value ELSE 0 END)/7.245)::INT as sale_f3,\n",
    "             (SUM(CASE WHEN purchased_at > %(ref_date)s::DATE -%(ws)s*4 AND purchased_at <= %(ref_date)s::DATE-%(ws)s*3 THEN value ELSE 0 END)/7.245)::INT as sale_f4,\n",
    "             (SUM(CASE WHEN purchased_at > %(ref_date)s::DATE -%(ws)s*5 AND purchased_at <= %(ref_date)s::DATE-%(ws)s*4 THEN value ELSE 0 END)/7.245)::INT as sale_f5,\n",
    "             COUNT (DISTINCT CASE WHEN purchased_at > %(ref_date)s::DATE -%(ws)s AND purchased_at <= %(ref_date)s::DATE THEN purchased_at::DATE ELSE null END ) as visit_f1,\n",
    "             COUNT (DISTINCT CASE WHEN purchased_at > %(ref_date)s::DATE -%(ws)s*2 AND purchased_at <= %(ref_date)s::DATE-%(ws)s THEN purchased_at::DATE ELSE null END ) as visit_f2,\n",
    "             COUNT (DISTINCT CASE WHEN purchased_at > %(ref_date)s::DATE -%(ws)s*3 AND purchased_at <= %(ref_date)s::DATE-%(ws)s*2 THEN purchased_at::DATE ELSE null END ) as visit_f3,\n",
    "             COUNT (DISTINCT CASE WHEN purchased_at > %(ref_date)s::DATE -%(ws)s*4 AND purchased_at <= %(ref_date)s::DATE-%(ws)s*3 THEN purchased_at::DATE ELSE null END ) as visit_f4,\n",
    "             COUNT (DISTINCT CASE WHEN purchased_at > %(ref_date)s::DATE -%(ws)s*5 AND purchased_at <= %(ref_date)s::DATE-%(ws)s*4 THEN purchased_at::DATE ELSE null END ) as visit_f5\n",
    "     FROM ml2.receipts_clean\n",
    "     JOIN ml2.receipt_lines_clean\n",
    "     USING (receipt_id)\n",
    "     GROUP BY customer_id),\n",
    "     \n",
    "     rfm AS (\n",
    "     SELECT customer_id,\n",
    "             SUM(value) as total_spend,\n",
    "             COUNT (DISTINCT purchased_at::DATE) as active_day,\n",
    "             SUM(value)/COUNT (DISTINCT purchased_at) as basket_value,\n",
    "             SUM (value)/ SUM (qty) as unit_cost,\n",
    "             COUNT (DISTINCT product_code) as num_pro,\n",
    "             COUNT(DISTINCT purchased_at::DATE)/((EXTRACT(day from (MAX(purchased_at)-MIN(purchased_at)))/%(ws)s)::INT+1) AS average_visit,\n",
    "             ((SUM (value)/((EXTRACT(day from (MAX(purchased_at)-MIN(purchased_at)))/%(ws)s)::INT+1))/7.245)::INT AS average_spend\n",
    "     FROM ml2.receipts_clean\n",
    "     JOIN ml2.receipt_lines_clean\n",
    "     USING (receipt_id)\n",
    "     --below condition to make sure we do not include future data--\n",
    "     WHERE purchased_at<=%(ref_date)s::date\n",
    "     --and only consider the nearest 5 period--\n",
    "     AND purchased_at>%(ref_date)s::DATE -%(ws)s*5\n",
    "     GROUP BY customer_id\n",
    "     --exclude people who not purchase in last period (strict churn)--\n",
    "     HAVING MAX(purchased_at)>%(ref_date)s::DATE-%(ws)s),\n",
    "             \n",
    "     store AS (\n",
    "     SELECT customer_id, store_code \n",
    "            FROM (SELECT customer_id, store_code, COUNT(*) AS ct\n",
    "                    FROM ml2.receipts_clean\n",
    "                    GROUP BY 1,2)x\n",
    "            GROUP BY 1,2,ct\n",
    "            HAVING ct=MAX(ct))\n",
    "    \n",
    "    SELECT * FROM tumbling JOIN store USING (customer_id) JOIN rfm USING (customer_id)\n",
    "    \n",
    "      \"\"\"\n",
    "\n",
    "      df = pd.read_sql(sql, conn, params = {'ref_date':reference_day, 'ws':tumbling_window_size, 'ows':output_window_size})\n",
    "\n",
    "      return df.drop(columns = ['ref_day','output_feature','customer_id'], inplace = False), df.output_feature"
   ]
  },
  {
   "cell_type": "code",
   "execution_count": 74,
   "id": "9efcd88b",
   "metadata": {},
   "outputs": [],
   "source": [
    "# create ouput processing function with \n",
    "# make a deep copy version of y with each change in decrease level\n",
    "from copy import deepcopy\n",
    "def data_process (X,y,k):\n",
    "    y_new=deepcopy(y)\n",
    "    for i in range(len(y_new)):\n",
    "        # X.iloc[i,-2]: data in column 'average_spend'\n",
    "        if y_new[i]<=X.iloc[i,-1]*k:\n",
    "            y_new[i]=1\n",
    "        else:\n",
    "            y_new[i]=0\n",
    "    return X, y_new"
   ]
  },
  {
   "cell_type": "code",
   "execution_count": 75,
   "id": "8130f308",
   "metadata": {},
   "outputs": [],
   "source": [
    "# calculating churn rate & model performance with each change in decrease level\n",
    "# using 5 folds of temporal hold outs\n",
    "# storing churn rate in curve, AUC in acc\n",
    "from sklearn.ensemble import RandomForestClassifier\n",
    "from sklearn.metrics import roc_auc_score\n",
    "rf=RandomForestClassifier(random_state=42, min_samples_leaf=30)\n",
    "import datetime  \n",
    "from datetime import timedelta\n",
    "ref_date= datetime.date(2020,10,17)\n",
    "index=[i/100 for i in range(0,100)]\n",
    "fold=5\n",
    "acc={}\n",
    "curve={}\n",
    "for k in range(fold):\n",
    "    ref_test=str(ref_date-timedelta(days=38*k))\n",
    "    ref_train=str(ref_date-timedelta(days=38*(k+1)))\n",
    "    X_test, y_test=get_dataset(ref_test)\n",
    "    X_train, y_train=get_dataset(ref_train)\n",
    "    acc[k]=[]\n",
    "    curve[k]=[]\n",
    "    for j in index:\n",
    "        X_test_new,y_test_new=data_process (X_test,y_test,j)\n",
    "        X_test_min=X_test_new\n",
    "        X_train_new, y_train_new=data_process (X_train,y_train,j)\n",
    "        curve[k].append(len(y_test_new[y_test_new==1])/len(y_test_new))\n",
    "        rf.fit(X_train_new,y_train_new)\n",
    "        y_pred=rf.predict_proba(X_test_new)[:,1]\n",
    "        acc[k].append(roc_auc_score(y_test_new,y_pred))"
   ]
  },
  {
   "cell_type": "code",
   "execution_count": 76,
   "id": "832ab6d2",
   "metadata": {},
   "outputs": [
    {
     "data": {
      "text/plain": [
       "[<matplotlib.lines.Line2D at 0x7ff2e8098150>]"
      ]
     },
     "execution_count": 76,
     "metadata": {},
     "output_type": "execute_result"
    },
    {
     "data": {
      "image/png": "[encoded data removed]",
      "text/plain": [
       "<Figure size 432x288 with 1 Axes>"
      ]
     },
     "metadata": {
      "needs_background": "light"
     },
     "output_type": "display_data"
    }
   ],
   "source": [
    "# plotting the results\n",
    "import matplotlib.pyplot as plt\n",
    "plt.plot(index, curve[0], 'r-')\n",
    "plt.plot(index, curve[1], 'g-')\n",
    "plt.plot(index, curve[2], 'b')\n",
    "plt.plot(index, curve[3], 'c-')\n",
    "plt.plot(index, curve[4], 'm-')\n",
    "plt.plot(index, acc[0], 'r:')\n",
    "plt.plot(index, acc[1], 'g:')\n",
    "plt.plot(index, acc[2], 'b:')\n",
    "plt.plot(index, acc[3], 'c:')\n",
    "plt.plot(index, acc[4], 'm:')"
   ]
  },
  {
   "cell_type": "code",
   "execution_count": 77,
   "id": "72e2747c",
   "metadata": {},
   "outputs": [
    {
     "data": {
      "text/plain": [
       "0.6289955432458286"
      ]
     },
     "execution_count": 77,
     "metadata": {},
     "output_type": "execute_result"
    }
   ],
   "source": [
    "#average churn rate at 0.49 threshold - significantly higher with visit\n",
    "(curve[0][49] + curve[1][49] + curve[2][49] + curve[3][49] + curve[4][49])/5"
   ]
  },
  {
   "cell_type": "code",
   "execution_count": 78,
   "id": "ba922b04",
   "metadata": {},
   "outputs": [
    {
     "data": {
      "text/plain": [
       "0.7652166671711922"
      ]
     },
     "execution_count": 78,
     "metadata": {},
     "output_type": "execute_result"
    }
   ],
   "source": [
    "#average AUC at 0.49 threshold - lower than visit even after coding due to widely spread value\n",
    "(acc[0][49] + acc[1][49] + acc[2][49] + acc[3][49] + acc[4][49])/5"
   ]
  },
  {
   "cell_type": "code",
   "execution_count": null,
   "id": "a3b6f052",
   "metadata": {},
   "outputs": [],
   "source": []
  }
 ],
 "metadata": {
  "kernelspec": {
   "display_name": "Python 3",
   "language": "python",
   "name": "python3"
  },
  "language_info": {
   "codemirror_mode": {
    "name": "ipython",
    "version": 3
   },
   "file_extension": ".py",
   "mimetype": "text/x-python",
   "name": "python",
   "nbconvert_exporter": "python",
   "pygments_lexer": "ipython3",
   "version": "3.7.6"
  }
 },
 "nbformat": 4,
 "nbformat_minor": 5
}
